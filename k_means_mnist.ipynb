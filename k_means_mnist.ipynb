{
  "nbformat": 4,
  "nbformat_minor": 0,
  "metadata": {
    "colab": {
      "provenance": []
    },
    "kernelspec": {
      "name": "python3",
      "display_name": "Python 3"
    },
    "language_info": {
      "name": "python"
    }
  },
  "cells": [
    {
      "cell_type": "markdown",
      "source": [
        "# K-Means Algorithm for Image Clustering ( Digit MNIST )\n",
        "\n",
        " * Implementing K-Means on a dataset with 5610 samples of numbers 1 to 5\n",
        " * Testing Different numbers of K from 3 to 7 to measure its effect on results\n",
        " * Implemented by Mohammad Hassan Heydari\n"
      ],
      "metadata": {
        "id": "AZa7gOuyjbho"
      }
    },
    {
      "cell_type": "code",
      "execution_count": null,
      "metadata": {
        "id": "n_qZssvqjUH_"
      },
      "outputs": [],
      "source": [
        "import numpy as np\n",
        "from PIL import Image"
      ]
    },
    {
      "cell_type": "markdown",
      "source": [
        "* In this part , we read the images from images directory wich are 5 images of each number 1 to 5, each image has 34 * 33 small images stick together , and each small image represents that specific number with 16*16 pixels . we should slice all the images and convert them into numpy.ndarray for our computing mission\n"
      ],
      "metadata": {
        "id": "bIqZnxvjjU8R"
      }
    },
    {
      "cell_type": "code",
      "source": [
        "def data_redaer():\n",
        "    dataset = []\n",
        "    for i in range(5): # five Images\n",
        "\n",
        "        #opening the image file using PIL.Image\n",
        "        img = Image.open(f'images/usps_{i+1}.jpg')\n",
        "\n",
        "        # saving each Image of number into a numpy array\n",
        "        img_array = np.array(img)\n",
        "\n",
        "        # here we slice the whole Image into 34*33 small images with 16*16 pixels\n",
        "        for i in range(0 ,img_array.shape[0] , 16):\n",
        "            for j in range(0, img_array.shape[1] , 16):\n",
        "\n",
        "                small_image = img_array[i : i + 16, j : j + 16]\n",
        "\n",
        "                # here we make our 16*16 image flat as a (1, 256) vector\n",
        "                small_image = small_image.flatten()\n",
        "\n",
        "                dataset.append(small_image)\n",
        "\n",
        "    dataset = np.array(dataset)\n",
        "\n",
        "    return dataset\n"
      ],
      "metadata": {
        "id": "1LVBtqISl9vR"
      },
      "execution_count": null,
      "outputs": []
    },
    {
      "cell_type": "markdown",
      "source": [
        "* In the part bellow , we assign each member of the dataset inti its nearest centroid"
      ],
      "metadata": {
        "id": "lmLIIZVim0ct"
      }
    },
    {
      "cell_type": "code",
      "source": [
        "\n",
        "def assign_labels(dataset, centroids):\n",
        "\n",
        "    distances = np.linalg.norm(dataset[:, np.newaxis] - centroids, axis=2)\n",
        "    labels = np.argmin(distances, axis= 1)\n",
        "\n",
        "    return labels"
      ],
      "metadata": {
        "id": "Z5J9u5PDm94D"
      },
      "execution_count": null,
      "outputs": []
    },
    {
      "cell_type": "code",
      "source": [
        "def update_centroids(dataset, labels, K):\n",
        "\n",
        "    n_features = dataset.shape[1]\n",
        "    updated_centroids = np.zeros((k, n_features))\n",
        "\n",
        "    for i in range(K):\n",
        "        cluster_points = dataset[ labels == i]\n",
        "\n",
        "        if len(cluster_points) > 0:\n",
        "            updated_centroids[i] = np.mean(cluster_points, axis=0)\n",
        "\n",
        "    return updated_centroids"
      ],
      "metadata": {
        "id": "XEmNu9Yhndpc"
      },
      "execution_count": null,
      "outputs": []
    },
    {
      "cell_type": "markdown",
      "source": [
        "* In the main function of the project, we run K_Means algorithm on our dataset for 100 iterations each"
      ],
      "metadata": {
        "id": "PqeJwUTLnfgj"
      }
    },
    {
      "cell_type": "code",
      "source": [
        "def k_means_image_clustering(dataset, k, init_centroids, max_iters=100):\n",
        "    centroids = init_centroids\n",
        "\n",
        "    for i in range(max_iters):\n",
        "        # for showing the process , we simply add this part of code\n",
        "        print(f'Epoch : {i} | K = {k}')\n",
        "\n",
        "        labels = assign_labels(dataset, centroids)\n",
        "        updated_centroids = update_centroids(dataset, labels, k)\n",
        "\n",
        "        centroids = updated_centroids\n",
        "\n",
        "    return centroids, labels"
      ],
      "metadata": {
        "id": "FkvSktSunxcl"
      },
      "execution_count": null,
      "outputs": []
    },
    {
      "cell_type": "markdown",
      "source": [
        "* In our main part of project, we initialize K centroids and then run K_Means with each centroids to measure how does it effect our performance , then we save the centroids as images into their specific directory"
      ],
      "metadata": {
        "id": "6CLoecscoAiY"
      }
    },
    {
      "cell_type": "code",
      "source": [
        "dataset = data_redaer()\n",
        "\n",
        "for k in [3, 4, 5, 6, 7] :\n",
        "\n",
        "    init_centroids = dataset[ np.random.choice(len(dataset), k) ]\n",
        "    # Run k-means clustering\n",
        "    centroids, labels = k_means_image_clustering(dataset, k, init_centroids= init_centroids)\n",
        "\n",
        "    # Reshape the centroids into images\n",
        "    centroids = centroids.reshape((k, 16, 16))\n",
        "\n",
        "    for i in range(k):\n",
        "\n",
        "        image_data = np.uint8(centroids[i])\n",
        "        image = Image.fromarray(image_data)\n",
        "\n",
        "        image.save(f\"centroids/{k}/centroid{i + 1}.png\")"
      ],
      "metadata": {
        "id": "PmJerIBBoY3e"
      },
      "execution_count": null,
      "outputs": []
    }
  ]
}