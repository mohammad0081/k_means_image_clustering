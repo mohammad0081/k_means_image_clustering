{
  "nbformat": 4,
  "nbformat_minor": 0,
  "metadata": {
    "colab": {
      "provenance": []
    },
    "kernelspec": {
      "name": "python3",
      "display_name": "Python 3"
    },
    "language_info": {
      "name": "python"
    }
  },
  "cells": [
    {
      "cell_type": "markdown",
      "source": [
        "## Image Clustering with K-Means\n",
        "\n",
        "* By Mohamamd Hassan Heydari\n",
        "\n",
        "\n",
        "***\n",
        "**Simple From Scratch course of K-Means Implementation in Python**\n",
        "* https://youtu.be/5w5iUbTlpMQ?feature=shared\n",
        "\n",
        "**Recommended full course of Unsupervised learning**\n",
        "* https://www.coursera.org/learn/unsupervised-learning-recommenders-reinforcement-learning?specialization=machine-learning-introduction\n",
        "\n",
        "**GeeksForGeeks K-Means toturial**\n",
        "* https://www.geeksforgeeks.org/k-means-clustering-introduction/\n",
        "\n",
        "***\n",
        "\n",
        "Image Clustering is one of k-means usecases whuch allows us to cluster unlabeld images . We can represent each image in coputer as a Tensor with (m, n, p) dimensions . m and n are length and width of our image and p represents a simple ( r, g, b) of each pixels color . In our specific dataset which is MNIST, images are 16*16 in gray scale, so we dont need that RGB part of pixle . Simply we can represent our images as 2D matrices which are 16*16 here .\n",
        "To train our k-means algorithm we need 1D vectors , so we flatten our images into shape ( 1, 16*16) or simply (1, 256) . A vector with 256 features !\n"
      ],
      "metadata": {
        "id": "8AwBEfTuTk0U"
      }
    },
    {
      "cell_type": "markdown",
      "source": [
        "Our main directory of images includes 5 images of number 1 to 5, each Big images is 544*528 and has 34*33 small images of that number with 16*16 pixels.\n",
        "After we trained our model on multiple number of cluster centroids, we save them in their specific pre-built directories"
      ],
      "metadata": {
        "id": "tvy-_AQqZAkc"
      }
    },
    {
      "cell_type": "code",
      "source": [
        "import numpy as np # for our numerical calculations\n",
        "from PIL import Image # to read and save images\n",
        "import matplotlib.pyplot as plt # for showing the results"
      ],
      "metadata": {
        "id": "Cwz9smMMZhmf"
      },
      "execution_count": null,
      "outputs": []
    },
    {
      "cell_type": "markdown",
      "source": [
        "* first of all, we need to load our data, we simply use this function to load images and slice them into 1122 small images with 16*16 pixels."
      ],
      "metadata": {
        "id": "L453qZuqZ0Yc"
      }
    },
    {
      "cell_type": "code",
      "source": [
        "def data_redaer():\n",
        "    dataset = []\n",
        "    for i in range(5):\n",
        "        img = Image.open(f'images/usps_{i+1}.jpg')\n",
        "\n",
        "        img_array = np.array(img)\n",
        "\n",
        "        for i in range(0 ,img_array.shape[0] , 16):\n",
        "            for j in range(0, img_array.shape[1] , 16):\n",
        "\n",
        "                # slicing Big 544*528 image to 16*16 small image\n",
        "                small_image = img_array[i : i + 16, j : j + 16]\n",
        "\n",
        "                # making our image a 1D Vector\n",
        "                small_image = small_image.flatten()\n",
        "\n",
        "                dataset.append(small_image)\n",
        "\n",
        "    dataset = np.array(dataset)\n",
        "\n",
        "    return dataset"
      ],
      "metadata": {
        "id": "EO85rJvjaGvp"
      },
      "execution_count": null,
      "outputs": []
    },
    {
      "cell_type": "markdown",
      "source": [
        "* Ti initialize first random centroids from dataset, we implement this function :"
      ],
      "metadata": {
        "id": "qpkzin8Rajie"
      }
    },
    {
      "cell_type": "code",
      "source": [
        "def init_centroids(X, k):\n",
        "    randidx = np.random.permutation(X.shape[0])\n",
        "    centroids = X[randidx[:k]]\n",
        "    return centroids"
      ],
      "metadata": {
        "id": "VjB3J7vyatII"
      },
      "execution_count": null,
      "outputs": []
    },
    {
      "cell_type": "markdown",
      "source": [
        "* As k-means works, it repeatedly updates cluster centroids , we update them like this :"
      ],
      "metadata": {
        "id": "ZiTN1brYaxw_"
      }
    },
    {
      "cell_type": "code",
      "source": [
        "def compute_centroids(X, idx, K):\n",
        "    m, n = X.shape\n",
        "    centroids = np.zeros((K, n))\n",
        "\n",
        "    for k in range(K) :\n",
        "        points = X[idx == k]\n",
        "\n",
        "        if len(points) > 0:\n",
        "            centroids[k] = np.mean(points, axis= 0)\n",
        "\n",
        "    return centroids"
      ],
      "metadata": {
        "id": "4P_XW9qza-mx"
      },
      "execution_count": null,
      "outputs": []
    },
    {
      "cell_type": "markdown",
      "source": [
        "* Each sample of dataset should be assigned to its closest centroid, in this project , we do this task with this part of code :"
      ],
      "metadata": {
        "id": "mmwID58KbCdM"
      }
    },
    {
      "cell_type": "code",
      "source": [
        "def find_closest_centroid(X, centroids):\n",
        "    K = centroids.shape[0]\n",
        "    idx = np.zeros(X.shape[0], dtype=int)\n",
        "\n",
        "    for i in range(X.shape[0]):\n",
        "        distances = []\n",
        "        for j in range(centroids.shape[0]):\n",
        "            norm_i_j = np.linalg.norm(X[i] - centroids[j])\n",
        "            distances.append(norm_i_j)\n",
        "\n",
        "        idx[i] = np.argmin(distances)\n",
        "\n",
        "    return idx"
      ],
      "metadata": {
        "id": "k6P-jh1YbRVU"
      },
      "execution_count": null,
      "outputs": []
    },
    {
      "cell_type": "markdown",
      "source": [
        "* In our main function of algorithm, we use previous functions to update the centroids and their assigned samples . We repeat this process untill number of iterations is reached"
      ],
      "metadata": {
        "id": "fx0tr4Mybdt6"
      }
    },
    {
      "cell_type": "code",
      "source": [
        "def run_k_means(X, initial_centroids, max_iters=100):\n",
        "    m, n = X.shape\n",
        "    K = initial_centroids.shape[0]\n",
        "    centroids = initial_centroids\n",
        "    idx = np.zeros(m)\n",
        "\n",
        "    for i in range(max_iters):\n",
        "        print(f'Epoch : {i} | K = {k}')\n",
        "        idx = find_closest_centroid(X, centroids)\n",
        "        centroids = compute_centroids(X, idx, K)\n",
        "\n",
        "    return centroids, idx"
      ],
      "metadata": {
        "id": "UyOprOJBbwoD"
      },
      "execution_count": null,
      "outputs": []
    },
    {
      "cell_type": "markdown",
      "source": [
        "* Finally, in the main body of code, we run k-means on different values of k ( 3 to 7 ) to examine the performance of this on the result . itn the last part, we save the cluster centroids to their directories"
      ],
      "metadata": {
        "id": "ZrPkIId0b2Ey"
      }
    },
    {
      "cell_type": "code",
      "source": [
        "dataset = data_redaer()\n",
        "\n",
        "for k in [3, 4, 5, 6, 7] :\n",
        "\n",
        "    initial_centroids = init_centroids(dataset, k)\n",
        "    # Run k-means clustering\n",
        "    centroids, labels = run_k_means(dataset, initial_centroids)\n",
        "\n",
        "    # Reshape the centroids into images\n",
        "    centroids = centroids.reshape((k, 16, 16))\n",
        "\n",
        "    if k == 5 :\n",
        "        for item in centroids :\n",
        "            plt.imshow(item, cmap='gray')\n",
        "            plt.show()\n",
        "\n",
        "    for i in range(k):\n",
        "\n",
        "        image_data = np.uint8(centroids[i])\n",
        "        image = Image.fromarray(image_data)\n",
        "\n",
        "        image.save(f\"centroids/{k}/centroid{i + 1}.png\")\n"
      ],
      "metadata": {
        "id": "N3gR9CBacLe6"
      },
      "execution_count": null,
      "outputs": []
    }
  ]
}